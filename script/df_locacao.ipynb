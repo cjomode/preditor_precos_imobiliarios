{
 "cells": [
  {
   "cell_type": "code",
   "execution_count": 11,
   "id": "65029cf8",
   "metadata": {},
   "outputs": [
    {
     "data": {
      "text/plain": [
       "'pt_BR.UTF-8'"
      ]
     },
     "execution_count": 11,
     "metadata": {},
     "output_type": "execute_result"
    }
   ],
   "source": [
    "import pandas as pd\n",
    "import locale\n",
    "\n",
    "locale.setlocale(locale.LC_TIME, 'pt_BR.UTF-8')\n"
   ]
  },
  {
   "cell_type": "code",
   "execution_count": 39,
   "id": "ea0a6ff5",
   "metadata": {},
   "outputs": [],
   "source": [
    "df = pd.read_csv('../data/Recife-Imoveis-Locacao.csv')\n",
    "df['Número-Índice-Total'] = df['Número-Índice-Total'].str.replace(',','.', regex=False)\n",
    "df['Número-Índice-Total'] = df['Número-Índice-Total'].astype('float')\n",
    "df['Var. Mensal (%)Total'] = df['Var. Mensal (%)Total'].str.replace('%','', regex=False)\n",
    "df['Var. Mensal (%)Total'] = df['Var. Mensal (%)Total'].str.replace(',','.', regex=False)\n",
    "df['Var. Mensal (%)Total'] = df['Var. Mensal (%)Total'].astype('float')/100 \n",
    "df['Var. em 12 meses (%)Total'] = df['Var. em 12 meses (%)Total'].str.replace('%','' ,regex=False)\n",
    "df['Var. em 12 meses (%)Total'] = df['Var. em 12 meses (%)Total'].str.replace(',','.', regex=False)\n",
    "df['Var. em 12 meses (%)Total'] = df['Var. em 12 meses (%)Total'].astype('float')/100 \n",
    "df['Preço médio (R$/m²)Total'] = df['Preço médio (R$/m²)Total'].str.replace(',','.', regex=False)\n",
    "df['Preço médio (R$/m²)Total'] = df['Preço médio (R$/m²)Total'].astype('float')"
   ]
  },
  {
   "cell_type": "code",
   "execution_count": 43,
   "id": "c18068db",
   "metadata": {},
   "outputs": [
    {
     "data": {
      "text/html": [
       "<div>\n",
       "<style scoped>\n",
       "    .dataframe tbody tr th:only-of-type {\n",
       "        vertical-align: middle;\n",
       "    }\n",
       "\n",
       "    .dataframe tbody tr th {\n",
       "        vertical-align: top;\n",
       "    }\n",
       "\n",
       "    .dataframe thead th {\n",
       "        text-align: right;\n",
       "    }\n",
       "</style>\n",
       "<table border=\"1\" class=\"dataframe\">\n",
       "  <thead>\n",
       "    <tr style=\"text-align: right;\">\n",
       "      <th></th>\n",
       "      <th>Data</th>\n",
       "      <th>Número-Índice-Total</th>\n",
       "      <th>Var. Mensal (%)Total</th>\n",
       "      <th>Var. em 12 meses (%)Total</th>\n",
       "      <th>Preço médio (R$/m²)Total</th>\n",
       "    </tr>\n",
       "  </thead>\n",
       "  <tbody>\n",
       "    <tr>\n",
       "      <th>0</th>\n",
       "      <td>2020-01-01</td>\n",
       "      <td>120.3</td>\n",
       "      <td>0.0103</td>\n",
       "      <td>0.0768</td>\n",
       "      <td>31.4</td>\n",
       "    </tr>\n",
       "    <tr>\n",
       "      <th>1</th>\n",
       "      <td>2020-02-01</td>\n",
       "      <td>120.7</td>\n",
       "      <td>0.0036</td>\n",
       "      <td>0.0665</td>\n",
       "      <td>31.5</td>\n",
       "    </tr>\n",
       "    <tr>\n",
       "      <th>2</th>\n",
       "      <td>2020-03-01</td>\n",
       "      <td>121.7</td>\n",
       "      <td>0.0084</td>\n",
       "      <td>0.0721</td>\n",
       "      <td>31.8</td>\n",
       "    </tr>\n",
       "    <tr>\n",
       "      <th>3</th>\n",
       "      <td>2020-04-01</td>\n",
       "      <td>122.6</td>\n",
       "      <td>0.0070</td>\n",
       "      <td>0.0758</td>\n",
       "      <td>32.0</td>\n",
       "    </tr>\n",
       "    <tr>\n",
       "      <th>4</th>\n",
       "      <td>2020-05-01</td>\n",
       "      <td>122.6</td>\n",
       "      <td>0.0003</td>\n",
       "      <td>0.0734</td>\n",
       "      <td>32.0</td>\n",
       "    </tr>\n",
       "    <tr>\n",
       "      <th>...</th>\n",
       "      <td>...</td>\n",
       "      <td>...</td>\n",
       "      <td>...</td>\n",
       "      <td>...</td>\n",
       "      <td>...</td>\n",
       "    </tr>\n",
       "    <tr>\n",
       "      <th>59</th>\n",
       "      <td>2024-12-01</td>\n",
       "      <td>212.5</td>\n",
       "      <td>0.0166</td>\n",
       "      <td>0.1617</td>\n",
       "      <td>55.4</td>\n",
       "    </tr>\n",
       "    <tr>\n",
       "      <th>60</th>\n",
       "      <td>2025-01-01</td>\n",
       "      <td>214.9</td>\n",
       "      <td>0.0112</td>\n",
       "      <td>0.1564</td>\n",
       "      <td>56.1</td>\n",
       "    </tr>\n",
       "    <tr>\n",
       "      <th>61</th>\n",
       "      <td>2025-02-01</td>\n",
       "      <td>217.2</td>\n",
       "      <td>0.0107</td>\n",
       "      <td>0.1486</td>\n",
       "      <td>56.7</td>\n",
       "    </tr>\n",
       "    <tr>\n",
       "      <th>62</th>\n",
       "      <td>2025-03-01</td>\n",
       "      <td>219.1</td>\n",
       "      <td>0.0087</td>\n",
       "      <td>0.1469</td>\n",
       "      <td>57.2</td>\n",
       "    </tr>\n",
       "    <tr>\n",
       "      <th>63</th>\n",
       "      <td>2025-04-01</td>\n",
       "      <td>221.3</td>\n",
       "      <td>0.0102</td>\n",
       "      <td>0.1405</td>\n",
       "      <td>57.7</td>\n",
       "    </tr>\n",
       "  </tbody>\n",
       "</table>\n",
       "<p>64 rows × 5 columns</p>\n",
       "</div>"
      ],
      "text/plain": [
       "         Data  Número-Índice-Total  Var. Mensal (%)Total  \\\n",
       "0  2020-01-01                120.3                0.0103   \n",
       "1  2020-02-01                120.7                0.0036   \n",
       "2  2020-03-01                121.7                0.0084   \n",
       "3  2020-04-01                122.6                0.0070   \n",
       "4  2020-05-01                122.6                0.0003   \n",
       "..        ...                  ...                   ...   \n",
       "59 2024-12-01                212.5                0.0166   \n",
       "60 2025-01-01                214.9                0.0112   \n",
       "61 2025-02-01                217.2                0.0107   \n",
       "62 2025-03-01                219.1                0.0087   \n",
       "63 2025-04-01                221.3                0.0102   \n",
       "\n",
       "    Var. em 12 meses (%)Total  Preço médio (R$/m²)Total  \n",
       "0                      0.0768                      31.4  \n",
       "1                      0.0665                      31.5  \n",
       "2                      0.0721                      31.8  \n",
       "3                      0.0758                      32.0  \n",
       "4                      0.0734                      32.0  \n",
       "..                        ...                       ...  \n",
       "59                     0.1617                      55.4  \n",
       "60                     0.1564                      56.1  \n",
       "61                     0.1486                      56.7  \n",
       "62                     0.1469                      57.2  \n",
       "63                     0.1405                      57.7  \n",
       "\n",
       "[64 rows x 5 columns]"
      ]
     },
     "execution_count": 43,
     "metadata": {},
     "output_type": "execute_result"
    }
   ],
   "source": [
    "df"
   ]
  },
  {
   "cell_type": "code",
   "execution_count": 33,
   "id": "b7bf6466",
   "metadata": {},
   "outputs": [
    {
     "data": {
      "text/plain": [
       "Data                         False\n",
       "Número-Índice-Total          False\n",
       "Var. Mensal (%)Total         False\n",
       "Var. em 12 meses (%)Total    False\n",
       "Preço médio (R$/m²)Total     False\n",
       "dtype: bool"
      ]
     },
     "execution_count": 33,
     "metadata": {},
     "output_type": "execute_result"
    }
   ],
   "source": [
    "df.isnull().any()"
   ]
  },
  {
   "cell_type": "code",
   "execution_count": 35,
   "id": "be4d1359",
   "metadata": {},
   "outputs": [
    {
     "name": "stdout",
     "output_type": "stream",
     "text": [
      "0     0.0103\n",
      "1     0.0036\n",
      "2     0.0084\n",
      "3     0.0070\n",
      "4     0.0003\n",
      "5    -0.0059\n",
      "6    -0.0041\n",
      "7     0.0014\n",
      "8     0.0030\n",
      "9     0.0056\n",
      "10    0.0077\n",
      "11    0.0117\n",
      "12    0.0088\n",
      "13    0.0116\n",
      "14    0.0055\n",
      "15    0.0039\n",
      "16    0.0018\n",
      "17    0.0028\n",
      "18    0.0127\n",
      "19    0.0181\n",
      "20    0.0151\n",
      "21    0.0114\n",
      "22    0.0043\n",
      "23    0.0107\n",
      "24    0.0130\n",
      "25    0.0196\n",
      "26    0.0126\n",
      "27    0.0235\n",
      "28    0.0189\n",
      "29    0.0209\n",
      "Name: Var. Mensal (%)Total, dtype: float64\n"
     ]
    }
   ],
   "source": [
    "print(df['Var. Mensal (%)Total'].head(30))\n"
   ]
  },
  {
   "cell_type": "code",
   "execution_count": 31,
   "id": "0386e55e",
   "metadata": {},
   "outputs": [
    {
     "name": "stdout",
     "output_type": "stream",
     "text": [
      "Data                         datetime64[ns]\n",
      "Número-Índice-Total                 float64\n",
      "Var. Mensal (%)Total                float64\n",
      "Var. em 12 meses (%)Total           float64\n",
      "Preço médio (R$/m²)Total            float64\n",
      "dtype: object\n"
     ]
    }
   ],
   "source": [
    "print(df.dtypes)\n"
   ]
  },
  {
   "cell_type": "code",
   "execution_count": 41,
   "id": "22cf6a57",
   "metadata": {},
   "outputs": [],
   "source": [
    "df = df.dropna(how='all', subset=['Número-Índice-Total', 'Var. Mensal (%)Total', 'Var. em 12 meses (%)Total', 'Preço médio (R$/m²)Total'])\n"
   ]
  },
  {
   "cell_type": "code",
   "execution_count": 44,
   "id": "ef845a4f",
   "metadata": {},
   "outputs": [],
   "source": [
    "df.to_csv('../data/dados_locacao_tratado.csv', index=False, sep=';', encoding='utf-8')"
   ]
  }
 ],
 "metadata": {
  "kernelspec": {
   "display_name": ".venv",
   "language": "python",
   "name": "python3"
  },
  "language_info": {
   "codemirror_mode": {
    "name": "ipython",
    "version": 3
   },
   "file_extension": ".py",
   "mimetype": "text/x-python",
   "name": "python",
   "nbconvert_exporter": "python",
   "pygments_lexer": "ipython3",
   "version": "3.13.2"
  }
 },
 "nbformat": 4,
 "nbformat_minor": 5
}
