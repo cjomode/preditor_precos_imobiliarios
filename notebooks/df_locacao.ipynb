{
 "cells": [
  {
   "cell_type": "code",
   "execution_count": 2,
   "id": "65029cf8",
   "metadata": {},
   "outputs": [
    {
     "data": {
      "text/plain": [
       "'pt_BR.UTF-8'"
      ]
     },
     "execution_count": 2,
     "metadata": {},
     "output_type": "execute_result"
    }
   ],
   "source": [
    "import pandas as pd\n",
    "import locale\n",
    "\n",
    "locale.setlocale(locale.LC_TIME, 'pt_BR.UTF-8')\n"
   ]
  },
  {
   "cell_type": "code",
   "execution_count": 27,
   "id": "ea0a6ff5",
   "metadata": {},
   "outputs": [],
   "source": [
    "df = pd.read_csv('../csv/Recife_Imoveis_Locacao.csv')\n"
   ]
  },
  {
   "cell_type": "code",
   "execution_count": 28,
   "id": "8bd95f41",
   "metadata": {},
   "outputs": [
    {
     "data": {
      "text/plain": [
       "Data                         object\n",
       "Numero_Indice_Total          object\n",
       "Var. Mensal (%)Total         object\n",
       "Var. em 12 meses (%)Total    object\n",
       "Preço médio (R$/m²)Total     object\n",
       "dtype: object"
      ]
     },
     "execution_count": 28,
     "metadata": {},
     "output_type": "execute_result"
    }
   ],
   "source": [
    "df.dtypes"
   ]
  },
  {
   "cell_type": "code",
   "execution_count": 29,
   "id": "1950babb",
   "metadata": {},
   "outputs": [
    {
     "data": {
      "text/html": [
       "<div>\n",
       "<style scoped>\n",
       "    .dataframe tbody tr th:only-of-type {\n",
       "        vertical-align: middle;\n",
       "    }\n",
       "\n",
       "    .dataframe tbody tr th {\n",
       "        vertical-align: top;\n",
       "    }\n",
       "\n",
       "    .dataframe thead th {\n",
       "        text-align: right;\n",
       "    }\n",
       "</style>\n",
       "<table border=\"1\" class=\"dataframe\">\n",
       "  <thead>\n",
       "    <tr style=\"text-align: right;\">\n",
       "      <th></th>\n",
       "      <th>Data</th>\n",
       "      <th>Numero_Indice_Total</th>\n",
       "      <th>Var. Mensal (%)Total</th>\n",
       "      <th>Var. em 12 meses (%)Total</th>\n",
       "      <th>Preço médio (R$/m²)Total</th>\n",
       "    </tr>\n",
       "  </thead>\n",
       "  <tbody>\n",
       "    <tr>\n",
       "      <th>0</th>\n",
       "      <td>jan/20</td>\n",
       "      <td>120,3</td>\n",
       "      <td>+1,03%</td>\n",
       "      <td>+7,68%</td>\n",
       "      <td>31,4</td>\n",
       "    </tr>\n",
       "    <tr>\n",
       "      <th>1</th>\n",
       "      <td>fev/20</td>\n",
       "      <td>120,7</td>\n",
       "      <td>+0,36%</td>\n",
       "      <td>+6,65%</td>\n",
       "      <td>31,5</td>\n",
       "    </tr>\n",
       "    <tr>\n",
       "      <th>2</th>\n",
       "      <td>mar/20</td>\n",
       "      <td>121,7</td>\n",
       "      <td>+0,84%</td>\n",
       "      <td>+7,21%</td>\n",
       "      <td>31,8</td>\n",
       "    </tr>\n",
       "    <tr>\n",
       "      <th>3</th>\n",
       "      <td>abr/20</td>\n",
       "      <td>122,6</td>\n",
       "      <td>+0,70%</td>\n",
       "      <td>+7,58%</td>\n",
       "      <td>32</td>\n",
       "    </tr>\n",
       "    <tr>\n",
       "      <th>4</th>\n",
       "      <td>mai/20</td>\n",
       "      <td>122,6</td>\n",
       "      <td>+0,03%</td>\n",
       "      <td>+7,34%</td>\n",
       "      <td>32</td>\n",
       "    </tr>\n",
       "    <tr>\n",
       "      <th>...</th>\n",
       "      <td>...</td>\n",
       "      <td>...</td>\n",
       "      <td>...</td>\n",
       "      <td>...</td>\n",
       "      <td>...</td>\n",
       "    </tr>\n",
       "    <tr>\n",
       "      <th>60</th>\n",
       "      <td>jan/25</td>\n",
       "      <td>214,9</td>\n",
       "      <td>+1,12%</td>\n",
       "      <td>+15,64%</td>\n",
       "      <td>56,1</td>\n",
       "    </tr>\n",
       "    <tr>\n",
       "      <th>61</th>\n",
       "      <td>fev/25</td>\n",
       "      <td>217,2</td>\n",
       "      <td>+1,07%</td>\n",
       "      <td>+14,86%</td>\n",
       "      <td>56,7</td>\n",
       "    </tr>\n",
       "    <tr>\n",
       "      <th>62</th>\n",
       "      <td>mar/25</td>\n",
       "      <td>219,1</td>\n",
       "      <td>+0,87%</td>\n",
       "      <td>+14,69%</td>\n",
       "      <td>57,2</td>\n",
       "    </tr>\n",
       "    <tr>\n",
       "      <th>63</th>\n",
       "      <td>abr/25</td>\n",
       "      <td>221,3</td>\n",
       "      <td>+1,02%</td>\n",
       "      <td>+14,05%</td>\n",
       "      <td>57,7</td>\n",
       "    </tr>\n",
       "    <tr>\n",
       "      <th>64</th>\n",
       "      <td>mai/25</td>\n",
       "      <td>NaN</td>\n",
       "      <td>NaN</td>\n",
       "      <td>NaN</td>\n",
       "      <td>NaN</td>\n",
       "    </tr>\n",
       "  </tbody>\n",
       "</table>\n",
       "<p>65 rows × 5 columns</p>\n",
       "</div>"
      ],
      "text/plain": [
       "      Data Numero_Indice_Total Var. Mensal (%)Total Var. em 12 meses (%)Total  \\\n",
       "0   jan/20               120,3               +1,03%                    +7,68%   \n",
       "1   fev/20               120,7               +0,36%                    +6,65%   \n",
       "2   mar/20               121,7               +0,84%                    +7,21%   \n",
       "3   abr/20               122,6               +0,70%                    +7,58%   \n",
       "4   mai/20               122,6               +0,03%                    +7,34%   \n",
       "..     ...                 ...                  ...                       ...   \n",
       "60  jan/25               214,9               +1,12%                   +15,64%   \n",
       "61  fev/25               217,2               +1,07%                   +14,86%   \n",
       "62  mar/25               219,1               +0,87%                   +14,69%   \n",
       "63  abr/25               221,3               +1,02%                   +14,05%   \n",
       "64  mai/25                 NaN                  NaN                       NaN   \n",
       "\n",
       "   Preço médio (R$/m²)Total  \n",
       "0                      31,4  \n",
       "1                      31,5  \n",
       "2                      31,8  \n",
       "3                        32  \n",
       "4                        32  \n",
       "..                      ...  \n",
       "60                     56,1  \n",
       "61                     56,7  \n",
       "62                     57,2  \n",
       "63                     57,7  \n",
       "64                      NaN  \n",
       "\n",
       "[65 rows x 5 columns]"
      ]
     },
     "execution_count": 29,
     "metadata": {},
     "output_type": "execute_result"
    }
   ],
   "source": [
    "df"
   ]
  },
  {
   "cell_type": "code",
   "execution_count": 32,
   "id": "218e029d",
   "metadata": {},
   "outputs": [],
   "source": [
    "df['Numero_Indice_Total'] = df['Numero_Indice_Total'].str.replace(',','.', regex=False)\n",
    "df['Numero_Indice_Total'] = df['Numero_Indice_Total'].astype('float')\n",
    "df['Var. Mensal (%)Total'] = df['Var. Mensal (%)Total'].str.replace('%','', regex=False)\n",
    "df['Var. Mensal (%)Total'] = df['Var. Mensal (%)Total'].str.replace(',','.', regex=False)\n"
   ]
  },
  {
   "cell_type": "code",
   "execution_count": 34,
   "id": "4fe2f650",
   "metadata": {},
   "outputs": [],
   "source": [
    "\n",
    "\n",
    "\n",
    "df['Var. Mensal (%)Total'] = df['Var. Mensal (%)Total'].astype('float')/100 \n",
    "df['Var. em 12 meses (%)Total'] = df['Var. em 12 meses (%)Total'].str.replace('%','', regex=False)\n",
    "df['Var. em 12 meses (%)Total'] = df['Var. em 12 meses (%)Total'].str.replace(',','.', regex=False)\n",
    "df['Var. em 12 meses (%)Total'] = df['Var. em 12 meses (%)Total'].astype('float')/100 \n",
    "df['Preço médio (R$/m²)Total'] = df['Preço médio (R$/m²)Total'].str.replace(',','.', regex=False)\n",
    "df['Preço médio (R$/m²)Total'] = df['Preço médio (R$/m²)Total'].astype('float')\n",
    "df['Data'] = pd.to_datetime(df['Data'],format='%b/%y')"
   ]
  },
  {
   "cell_type": "code",
   "execution_count": 35,
   "id": "4569db0d",
   "metadata": {},
   "outputs": [],
   "source": [
    "df.replace(\".\", None, inplace=True)"
   ]
  },
  {
   "cell_type": "code",
   "execution_count": 36,
   "id": "42183b35",
   "metadata": {},
   "outputs": [
    {
     "data": {
      "text/html": [
       "<div>\n",
       "<style scoped>\n",
       "    .dataframe tbody tr th:only-of-type {\n",
       "        vertical-align: middle;\n",
       "    }\n",
       "\n",
       "    .dataframe tbody tr th {\n",
       "        vertical-align: top;\n",
       "    }\n",
       "\n",
       "    .dataframe thead th {\n",
       "        text-align: right;\n",
       "    }\n",
       "</style>\n",
       "<table border=\"1\" class=\"dataframe\">\n",
       "  <thead>\n",
       "    <tr style=\"text-align: right;\">\n",
       "      <th></th>\n",
       "      <th>Data</th>\n",
       "      <th>Numero_Indice_Total</th>\n",
       "      <th>Var. Mensal (%)Total</th>\n",
       "      <th>Var. em 12 meses (%)Total</th>\n",
       "      <th>Preço médio (R$/m²)Total</th>\n",
       "    </tr>\n",
       "  </thead>\n",
       "  <tbody>\n",
       "    <tr>\n",
       "      <th>0</th>\n",
       "      <td>2020-01-01</td>\n",
       "      <td>120.3</td>\n",
       "      <td>0.0103</td>\n",
       "      <td>0.0768</td>\n",
       "      <td>31.4</td>\n",
       "    </tr>\n",
       "    <tr>\n",
       "      <th>1</th>\n",
       "      <td>2020-02-01</td>\n",
       "      <td>120.7</td>\n",
       "      <td>0.0036</td>\n",
       "      <td>0.0665</td>\n",
       "      <td>31.5</td>\n",
       "    </tr>\n",
       "    <tr>\n",
       "      <th>2</th>\n",
       "      <td>2020-03-01</td>\n",
       "      <td>121.7</td>\n",
       "      <td>0.0084</td>\n",
       "      <td>0.0721</td>\n",
       "      <td>31.8</td>\n",
       "    </tr>\n",
       "    <tr>\n",
       "      <th>3</th>\n",
       "      <td>2020-04-01</td>\n",
       "      <td>122.6</td>\n",
       "      <td>0.0070</td>\n",
       "      <td>0.0758</td>\n",
       "      <td>32.0</td>\n",
       "    </tr>\n",
       "    <tr>\n",
       "      <th>4</th>\n",
       "      <td>2020-05-01</td>\n",
       "      <td>122.6</td>\n",
       "      <td>0.0003</td>\n",
       "      <td>0.0734</td>\n",
       "      <td>32.0</td>\n",
       "    </tr>\n",
       "    <tr>\n",
       "      <th>...</th>\n",
       "      <td>...</td>\n",
       "      <td>...</td>\n",
       "      <td>...</td>\n",
       "      <td>...</td>\n",
       "      <td>...</td>\n",
       "    </tr>\n",
       "    <tr>\n",
       "      <th>60</th>\n",
       "      <td>2025-01-01</td>\n",
       "      <td>214.9</td>\n",
       "      <td>0.0112</td>\n",
       "      <td>0.1564</td>\n",
       "      <td>56.1</td>\n",
       "    </tr>\n",
       "    <tr>\n",
       "      <th>61</th>\n",
       "      <td>2025-02-01</td>\n",
       "      <td>217.2</td>\n",
       "      <td>0.0107</td>\n",
       "      <td>0.1486</td>\n",
       "      <td>56.7</td>\n",
       "    </tr>\n",
       "    <tr>\n",
       "      <th>62</th>\n",
       "      <td>2025-03-01</td>\n",
       "      <td>219.1</td>\n",
       "      <td>0.0087</td>\n",
       "      <td>0.1469</td>\n",
       "      <td>57.2</td>\n",
       "    </tr>\n",
       "    <tr>\n",
       "      <th>63</th>\n",
       "      <td>2025-04-01</td>\n",
       "      <td>221.3</td>\n",
       "      <td>0.0102</td>\n",
       "      <td>0.1405</td>\n",
       "      <td>57.7</td>\n",
       "    </tr>\n",
       "    <tr>\n",
       "      <th>64</th>\n",
       "      <td>2025-05-01</td>\n",
       "      <td>NaN</td>\n",
       "      <td>NaN</td>\n",
       "      <td>NaN</td>\n",
       "      <td>NaN</td>\n",
       "    </tr>\n",
       "  </tbody>\n",
       "</table>\n",
       "<p>65 rows × 5 columns</p>\n",
       "</div>"
      ],
      "text/plain": [
       "         Data  Numero_Indice_Total  Var. Mensal (%)Total  \\\n",
       "0  2020-01-01                120.3                0.0103   \n",
       "1  2020-02-01                120.7                0.0036   \n",
       "2  2020-03-01                121.7                0.0084   \n",
       "3  2020-04-01                122.6                0.0070   \n",
       "4  2020-05-01                122.6                0.0003   \n",
       "..        ...                  ...                   ...   \n",
       "60 2025-01-01                214.9                0.0112   \n",
       "61 2025-02-01                217.2                0.0107   \n",
       "62 2025-03-01                219.1                0.0087   \n",
       "63 2025-04-01                221.3                0.0102   \n",
       "64 2025-05-01                  NaN                   NaN   \n",
       "\n",
       "    Var. em 12 meses (%)Total  Preço médio (R$/m²)Total  \n",
       "0                      0.0768                      31.4  \n",
       "1                      0.0665                      31.5  \n",
       "2                      0.0721                      31.8  \n",
       "3                      0.0758                      32.0  \n",
       "4                      0.0734                      32.0  \n",
       "..                        ...                       ...  \n",
       "60                     0.1564                      56.1  \n",
       "61                     0.1486                      56.7  \n",
       "62                     0.1469                      57.2  \n",
       "63                     0.1405                      57.7  \n",
       "64                        NaN                       NaN  \n",
       "\n",
       "[65 rows x 5 columns]"
      ]
     },
     "execution_count": 36,
     "metadata": {},
     "output_type": "execute_result"
    }
   ],
   "source": [
    "df"
   ]
  },
  {
   "cell_type": "code",
   "execution_count": 37,
   "id": "b7bf6466",
   "metadata": {},
   "outputs": [
    {
     "data": {
      "text/plain": [
       "Data                         False\n",
       "Numero_Indice_Total           True\n",
       "Var. Mensal (%)Total          True\n",
       "Var. em 12 meses (%)Total     True\n",
       "Preço médio (R$/m²)Total      True\n",
       "dtype: bool"
      ]
     },
     "execution_count": 37,
     "metadata": {},
     "output_type": "execute_result"
    }
   ],
   "source": [
    "df.isnull().any()"
   ]
  },
  {
   "cell_type": "code",
   "execution_count": 38,
   "id": "0386e55e",
   "metadata": {},
   "outputs": [
    {
     "name": "stdout",
     "output_type": "stream",
     "text": [
      "Data                         datetime64[ns]\n",
      "Numero_Indice_Total                 float64\n",
      "Var. Mensal (%)Total                float64\n",
      "Var. em 12 meses (%)Total           float64\n",
      "Preço médio (R$/m²)Total            float64\n",
      "dtype: object\n"
     ]
    }
   ],
   "source": [
    "print(df.dtypes)\n"
   ]
  },
  {
   "cell_type": "code",
   "execution_count": 63,
   "id": "22cf6a57",
   "metadata": {},
   "outputs": [
    {
     "ename": "KeyError",
     "evalue": "['Var. Mensal (%)Total']",
     "output_type": "error",
     "traceback": [
      "\u001b[31m---------------------------------------------------------------------------\u001b[39m",
      "\u001b[31mKeyError\u001b[39m                                  Traceback (most recent call last)",
      "\u001b[32m/tmp/ipykernel_13276/3005674154.py\u001b[39m in \u001b[36m?\u001b[39m\u001b[34m()\u001b[39m\n\u001b[32m----> \u001b[39m\u001b[32m1\u001b[39m df = df.dropna(how=\u001b[33m'all'\u001b[39m, subset=[\u001b[33m'Numero_Indice_Total'\u001b[39m, \u001b[33m'Var. Mensal (%)Total'\u001b[39m, \u001b[33m'Var. em 12 meses (%)Total'\u001b[39m, \u001b[33m'Preço médio (R$/m²)Total'\u001b[39m])\n",
      "\u001b[32m~/projeto-imobiliaria/.venv/lib/python3.13/site-packages/pandas/core/frame.py\u001b[39m in \u001b[36m?\u001b[39m\u001b[34m(self, axis, how, thresh, subset, inplace, ignore_index)\u001b[39m\n\u001b[32m   6673\u001b[39m             ax = self._get_axis(agg_axis)\n\u001b[32m   6674\u001b[39m             indices = ax.get_indexer_for(subset)\n\u001b[32m   6675\u001b[39m             check = indices == -\u001b[32m1\u001b[39m\n\u001b[32m   6676\u001b[39m             \u001b[38;5;28;01mif\u001b[39;00m check.any():\n\u001b[32m-> \u001b[39m\u001b[32m6677\u001b[39m                 \u001b[38;5;28;01mraise\u001b[39;00m KeyError(np.array(subset)[check].tolist())\n\u001b[32m   6678\u001b[39m             agg_obj = self.take(indices, axis=agg_axis)\n\u001b[32m   6679\u001b[39m \n\u001b[32m   6680\u001b[39m         \u001b[38;5;28;01mif\u001b[39;00m thresh \u001b[38;5;28;01mis\u001b[39;00m \u001b[38;5;28;01mnot\u001b[39;00m lib.no_default:\n",
      "\u001b[31mKeyError\u001b[39m: ['Var. Mensal (%)Total']"
     ]
    }
   ],
   "source": [
    "df = df.dropna(how='all', subset=['Numero_Indice_Total', 'Var. Mensal (%)Total', 'Var. em 12 meses (%)Total', 'Preço médio (R$/m²)Total'])\n"
   ]
  },
  {
   "cell_type": "code",
   "execution_count": 39,
   "id": "ef845a4f",
   "metadata": {},
   "outputs": [],
   "source": [
    "df.to_csv('../data/dados_locacao_recife_tratado.csv', index=False, sep=';', encoding='utf-8')"
   ]
  }
 ],
 "metadata": {
  "kernelspec": {
   "display_name": ".venv",
   "language": "python",
   "name": "python3"
  },
  "language_info": {
   "codemirror_mode": {
    "name": "ipython",
    "version": 3
   },
   "file_extension": ".py",
   "mimetype": "text/x-python",
   "name": "python",
   "nbconvert_exporter": "python",
   "pygments_lexer": "ipython3",
   "version": "3.13.2"
  }
 },
 "nbformat": 4,
 "nbformat_minor": 5
}
