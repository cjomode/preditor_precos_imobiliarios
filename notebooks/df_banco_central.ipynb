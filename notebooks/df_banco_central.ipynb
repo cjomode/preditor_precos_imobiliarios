{
 "cells": [
  {
   "cell_type": "code",
   "execution_count": 1,
   "id": "6bfee8df",
   "metadata": {},
   "outputs": [],
   "source": [
    "import pandas as pd"
   ]
  },
  {
   "cell_type": "code",
   "execution_count": 2,
   "id": "51e2d7e4",
   "metadata": {},
   "outputs": [],
   "source": [
    "df = pd.read_csv('../data/Expectativas de Mercado para inflação nos próximos 12 meses - Estatísticas (1).csv')"
   ]
  },
  {
   "cell_type": "code",
   "execution_count": 4,
   "id": "010413e2",
   "metadata": {},
   "outputs": [],
   "source": [
    "df.to_csv('../data/dados_banco_central.csv', index=False, sep=';', encoding='utf-8')"
   ]
  }
 ],
 "metadata": {
  "kernelspec": {
   "display_name": ".venv",
   "language": "python",
   "name": "python3"
  },
  "language_info": {
   "codemirror_mode": {
    "name": "ipython",
    "version": 3
   },
   "file_extension": ".py",
   "mimetype": "text/x-python",
   "name": "python",
   "nbconvert_exporter": "python",
   "pygments_lexer": "ipython3",
   "version": "3.13.2"
  }
 },
 "nbformat": 4,
 "nbformat_minor": 5
}
